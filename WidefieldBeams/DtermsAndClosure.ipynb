{
 "cells": [
  {
   "cell_type": "code",
   "execution_count": 1,
   "metadata": {
    "collapsed": true
   },
   "outputs": [],
   "source": [
    "from sympy import *\n",
    "init_printing(use_unicode=True)\n",
    "from sympy.physics.quantum import TensorProduct"
   ]
  },
  {
   "cell_type": "code",
   "execution_count": 16,
   "metadata": {
    "collapsed": true
   },
   "outputs": [],
   "source": [
    "# Standard direction-independent (DI) Jones matrix\n",
    "Gia,Gib,Diab,Diba,Gja,Gjb,Djab,Djba = symbols('G_ia G_ib D_iab D_iba G_ja G_jb D_jab D_jba')\n",
    "# Coherency\n",
    "Vaa,Vab,Vba,Vbb = symbols('V_aa V_ab V_ba V_bb')"
   ]
  },
  {
   "cell_type": "code",
   "execution_count": 17,
   "metadata": {
    "collapsed": false
   },
   "outputs": [],
   "source": [
    "Ji = Matrix([[Gia,Diab],[Diba,Gib]])\n",
    "Jj = Matrix([[Gja,Djab],[Djba,Gjb]])\n",
    "V = Matrix([[Vaa,Vab],[Vba,Vbb]])"
   ]
  },
  {
   "cell_type": "code",
   "execution_count": 19,
   "metadata": {
    "collapsed": false
   },
   "outputs": [],
   "source": [
    "Dmix = Ji*V*Jj.H"
   ]
  },
  {
   "cell_type": "code",
   "execution_count": 20,
   "metadata": {
    "collapsed": false
   },
   "outputs": [
    {
     "data": {
      "text/plain": [
       "Matrix([\n",
       "[(D_iab*V_ba + G_ia*V_aa)*conjugate(G_ja) + (D_iab*V_bb + G_ia*V_ab)*conjugate(D_jab), (D_iab*V_ba + G_ia*V_aa)*conjugate(D_jba) + (D_iab*V_bb + G_ia*V_ab)*conjugate(G_jb)],\n",
       "[(D_iba*V_aa + G_ib*V_ba)*conjugate(G_ja) + (D_iba*V_ab + G_ib*V_bb)*conjugate(D_jab), (D_iba*V_aa + G_ib*V_ba)*conjugate(D_jba) + (D_iba*V_ab + G_ib*V_bb)*conjugate(G_jb)]])"
      ]
     },
     "execution_count": 20,
     "metadata": {},
     "output_type": "execute_result"
    }
   ],
   "source": [
    "Dmix"
   ]
  },
  {
   "cell_type": "code",
   "execution_count": 21,
   "metadata": {
    "collapsed": false
   },
   "outputs": [
    {
     "name": "stdout",
     "output_type": "stream",
     "text": [
      "\\left[\\begin{matrix}\\left(D_{iab} V_{ba} + G_{ia} V_{aa}\\right) \\overline{G_{ja}} + \\left(D_{iab} V_{bb} + G_{ia} V_{ab}\\right) \\overline{D_{jab}} & \\left(D_{iab} V_{ba} + G_{ia} V_{aa}\\right) \\overline{D_{jba}} + \\left(D_{iab} V_{bb} + G_{ia} V_{ab}\\right) \\overline{G_{jb}}\\\\\\left(D_{iba} V_{aa} + G_{ib} V_{ba}\\right) \\overline{G_{ja}} + \\left(D_{iba} V_{ab} + G_{ib} V_{bb}\\right) \\overline{D_{jab}} & \\left(D_{iba} V_{aa} + G_{ib} V_{ba}\\right) \\overline{D_{jba}} + \\left(D_{iba} V_{ab} + G_{ib} V_{bb}\\right) \\overline{G_{jb}}\\end{matrix}\\right]\n"
     ]
    }
   ],
   "source": [
    "print(latex(Dmix))"
   ]
  },
  {
   "cell_type": "code",
   "execution_count": null,
   "metadata": {
    "collapsed": true
   },
   "outputs": [],
   "source": []
  }
 ],
 "metadata": {
  "anaconda-cloud": {},
  "kernelspec": {
   "display_name": "Python [default]",
   "language": "python",
   "name": "python2"
  },
  "language_info": {
   "codemirror_mode": {
    "name": "ipython",
    "version": 2
   },
   "file_extension": ".py",
   "mimetype": "text/x-python",
   "name": "python",
   "nbconvert_exporter": "python",
   "pygments_lexer": "ipython2",
   "version": "2.7.11"
  }
 },
 "nbformat": 4,
 "nbformat_minor": 0
}
